{
 "cells": [
  {
   "cell_type": "markdown",
   "metadata": {
    "collapsed": false
   },
   "source": [
    "$$\n",
    "\\begin{cases}\n",
    "\\dot{x}_i = v \\cos \\theta_i i \\\\\n",
    "\\dot{y}_i = v \\sin \\theta_i i \\\\\n",
    "\\dot{\\theta}_i = \\omega_i + K_1 \\sum_{j=1}^N A_{ij} \\sin \\left( \\theta_j - \\theta_i \\right) + K_2 \\sum_{j=1}^N \\sum_{k=1}^N G_{ijk} \\sin \\left( \\theta_j + \\theta_k - 2\\theta_i \\right)\n",
    "\\end{cases}\n",
    "\\quad\n",
    "A_{ij} = H\\left( d_1 - d_{ij}(t) \\right) =\n",
    "\\begin{cases}\n",
    "1, & d_{ij}(t) \\leq d_1 \\\\\n",
    "0, & \\text{else}\n",
    "\\end{cases}\n",
    "\\quad\n",
    "G_{ijk} = H\\left( d_2 - d_{ij}(t) \\right) H\\left( d_2 - d_{jk}(t) \\right) H\\left( d_2 - d_{ik}(t) \\right)\n",
    "\\quad\n",
    "d_{ij} = \\sqrt{\\left[ x_i(t) - x_j(t) \\right]^2 + \\left[ y_i(t) - y_j(t) \\right]^2}\n",
    "$$"
   ]
  },
  {
   "cell_type": "code",
   "execution_count": 1,
   "metadata": {
    "is_executing": true
   },
   "outputs": [],
   "source": [
    "from pandas.io.sas.sas_constants import subheader_pointer_length_x64\n",
    "from sympy import false\n",
    "\n",
    "from main import *"
   ]
  },
  {
   "cell_type": "code",
   "execution_count": 2,
   "metadata": {},
   "outputs": [],
   "source": [
    "model = ThreeBody(strengthLambda1=0.09, strengthLambda2=0.09, \n",
    "                  distanceD1=0.5, distanceD2=0.5, agentsNum=200, boundaryLength=5,\n",
    "                  tqdm=True, savePath=\"./data\", overWrite=True)\n",
    "# model.tempForK = model.tempForK\n",
    "# model.pointTheta"
   ]
  },
  {
   "cell_type": "code",
   "execution_count": 3,
   "metadata": {},
   "outputs": [
    {
     "data": {
      "application/vnd.jupyter.widget-view+json": {
       "model_id": "08a6e8521e8a4b6a8f061a03540ce98f",
       "version_major": 2,
       "version_minor": 0
      },
      "text/plain": [
       "  0%|          | 0/100 [00:00<?, ?it/s]"
      ]
     },
     "metadata": {},
     "output_type": "display_data"
    }
   ],
   "source": [
    "model.run(100)"
   ]
  },
  {
   "cell_type": "code",
   "execution_count": null,
   "metadata": {},
   "outputs": [],
   "source": [
    "targetPath = f\"./data/{model}.h5\"\n",
    "totalPositionX = pd.read_hdf(targetPath, key=\"positionX\")\n",
    "totalPhaseTheta = pd.read_hdf(targetPath, key=\"phaseTheta\")\n",
    "totalPointTheta = pd.read_hdf(targetPath, key=\"pointTheta\")\n",
    "TNum = totalPositionX.shape[0] // model.agentsNum\n",
    "totalPositionX = totalPositionX.values.reshape(TNum, model.agentsNum, 2)\n",
    "totalPhaseTheta = totalPhaseTheta.values.reshape(TNum, model.agentsNum)\n",
    "totalPointTheta = totalPointTheta.values.reshape(TNum, model.agentsNum)\n",
    "for i in totalPointTheta:\n",
    "    print(np.isnan(i).sum())"
   ]
  },
  {
   "cell_type": "code",
   "execution_count": 5,
   "metadata": {},
   "outputs": [],
   "source": [
    "import pandas as pd\n",
    "from matplotlib.animation import FuncAnimation\n",
    "\n",
    "def draw_mp4(model):\n",
    "\n",
    "    targetPath = f\"./data/{model}.h5\"\n",
    "    totalPositionX = pd.read_hdf(targetPath, key=\"positionX\")\n",
    "    totalPhaseTheta = pd.read_hdf(targetPath, key=\"phaseTheta\")\n",
    "    totalPointTheta = pd.read_hdf(targetPath, key=\"pointTheta\")\n",
    "    TNum = totalPositionX.shape[0] // model.agentsNum\n",
    "    totalPositionX = totalPositionX.values.reshape(TNum, model.agentsNum, 2)\n",
    "    totalPhaseTheta = totalPhaseTheta.values.reshape(TNum, model.agentsNum)\n",
    "    totalPointTheta = totalPointTheta.values.reshape(TNum, model.agentsNum)\n",
    "    shift = 0\n",
    "    class1, class2 = (\n",
    "        np.concatenate([np.ones(model.agentsNum // 2), np.zeros(model.agentsNum // 2)]).astype(bool), \n",
    "        np.concatenate([np.zeros(model.agentsNum // 2), np.ones(model.agentsNum // 2)]).astype(bool)\n",
    "    )\n",
    "\n",
    "    def plot_frame(i):\n",
    "        pbar.update(1)\n",
    "        positionX = totalPositionX[i]\n",
    "        phaseTheta = totalPhaseTheta[i]\n",
    "        fig.clear()\n",
    "        ax1 = plt.subplot(1, 2, 1)\n",
    "        ax1.quiver(\n",
    "            positionX[class1, 0], positionX[class1, 1],\n",
    "            np.cos(phaseTheta[class1]), np.sin(phaseTheta[class1]), color='tomato'\n",
    "        )\n",
    "        ax1.quiver(\n",
    "            positionX[class2, 0], positionX[class2, 1],\n",
    "            np.cos(phaseTheta[class2]), np.sin(phaseTheta[class2]), color='dodgerblue'\n",
    "        )\n",
    "        print(positionX.min(), positionX.max())\n",
    "        limShift = 0\n",
    "        ax1.set_xlim(0 - limShift, model.boundaryLength + limShift)\n",
    "        ax1.set_ylim(0 - limShift, model.boundaryLength + limShift)\n",
    "\n",
    "        ax2 = plt.subplot(1, 2, 2, projection='3d')\n",
    "        hist, bins = np.histogram(phaseTheta[class1], bins=100, range=(-np.pi, np.pi))\n",
    "        # print(np.array([np.zeros_like(hist), hist]).shape)\n",
    "        ax2.plot_surface(\n",
    "            np.cos(bins[:-1]), np.sin(bins[:-1]), \n",
    "            np.array([np.zeros_like(hist), hist]), \n",
    "            color='tomato', alpha=0.5, edgecolor=\"tomato\"\n",
    "        )\n",
    "        hist, bins = np.histogram(phaseTheta[class2], bins=100, range=(-np.pi, np.pi))\n",
    "        ax2.plot_surface(\n",
    "            np.cos(bins[:-1]) + shift, np.sin(bins[:-1]) + shift,\n",
    "            np.array([np.zeros_like(hist), hist]), \n",
    "            color='dodgerblue', alpha=0.5, edgecolor=\"dodgerblue\"\n",
    "        )\n",
    "        ax2.set_xlabel(r\"$\\cos(\\theta_I)$\")\n",
    "        ax2.set_ylabel(r\"$\\sin(\\theta_I)$\")\n",
    "        ax2.set_zlabel(\"Count\")\n",
    "        ax2.set_zlim(0, 1000)\n",
    "\n",
    "    pbar = tqdm(total=TNum)\n",
    "    fig, ax = plt.subplots(figsize=(11, 5))\n",
    "    ani = ma.FuncAnimation(fig, plot_frame, frames=np.arange(0, TNum, 1), interval=50, repeat=False)\n",
    "    ani.save(f\"./mp4/{model}.mp4\", dpi=200, writer=\"ffmpeg\")\n",
    "    \n",
    "    plt.close()\n",
    "\n",
    "    pbar.close()"
   ]
  },
  {
   "cell_type": "code",
   "execution_count": null,
   "metadata": {},
   "outputs": [],
   "source": [
    "rangeLambdas = np.concatenate([\n",
    "    np.arange(0.01, 0.1, 0.02), np.arange(0.1, 1, 0.2)\n",
    "])\n",
    "distanceDs = np.concatenate([\n",
    "    np.arange(0.1, 1, 0.2)\n",
    "])\n",
    "\n",
    "models = [\n",
    "    ThreeBody(l1, l2, d1, d2, agentsNum=200, boundaryLength=5,\n",
    "            tqdm=True, savePath=\"\", overWrite=True)\n",
    "    for l1, l2, d1, d2  in product(rangeLambdas, rangeLambdas, distanceDs, distanceDs)\n",
    "]"
   ]
  },
  {
   "cell_type": "code",
   "execution_count": null,
   "metadata": {},
   "outputs": [],
   "source": [
    "len(models)"
   ]
  },
  {
   "cell_type": "code",
   "execution_count": 6,
   "metadata": {},
   "outputs": [
    {
     "data": {
      "application/vnd.jupyter.widget-view+json": {
       "model_id": "419db29e4e7a433f817df266b037f1af",
       "version_major": 2,
       "version_minor": 0
      },
      "text/plain": [
       "  0%|          | 0/22 [00:00<?, ?it/s]"
      ]
     },
     "metadata": {},
     "output_type": "display_data"
    },
    {
     "name": "stdout",
     "output_type": "stream",
     "text": [
      "0.019741331639572257 4.97629392410128\n",
      "0.019741331639572257 4.97629392410128\n",
      "0.04576761180713488 4.962926081582219\n",
      "0.01807480623955432 4.972592039572016\n",
      "3.246200237102398e-05 4.998973760361729\n",
      "0.040921434924409125 4.996636972280217\n",
      "0.02024645815951901 4.996689514738278\n",
      "0.016459894635319827 4.960593095461617\n",
      "0.018601896104404825 4.991672251874611\n",
      "0.01476951959440433 4.984399766256762\n",
      "0.008898011854443055 4.996808007757007\n",
      "0.0017942678156508407 4.989379924635669\n",
      "0.006800736769409177 4.990072674080192\n",
      "0.009928350026526964 4.985294703796589\n",
      "0.030534830054049358 4.975580114252473\n",
      "0.0021856546652534448 4.9861707578357946\n",
      "0.0018167833603343203 4.998814027454556\n",
      "0.008072939497495213 4.990977595615927\n",
      "0.01575146124386388 4.970941173805207\n",
      "0.029159489728627773 4.9857689191066665\n",
      "0.0018343755570292622 4.994801013831123\n",
      "0.0035232164388139253 4.982116844361348\n",
      "0.008720026793480277 4.994749698519471\n"
     ]
    }
   ],
   "source": [
    "draw_mp4(model)"
   ]
  },
  {
   "cell_type": "code",
   "execution_count": null,
   "metadata": {},
   "outputs": [],
   "source": []
  },
  {
   "cell_type": "code",
   "execution_count": null,
   "metadata": {},
   "outputs": [
    {
     "name": "stdout",
     "output_type": "stream",
     "text": [
      "0\n",
      "0\n",
      "0\n",
      "0\n",
      "0\n",
      "0\n",
      "0\n",
      "0\n",
      "0\n",
      "0\n",
      "0\n",
      "0\n",
      "0\n",
      "0\n",
      "0\n",
      "0\n",
      "0\n",
      "0\n",
      "0\n",
      "0\n",
      "0\n",
      "0\n"
     ]
    }
   ],
   "source": []
  }
 ],
 "metadata": {
  "kernelspec": {
   "display_name": "py37",
   "language": "python",
   "name": "python3"
  },
  "language_info": {
   "codemirror_mode": {
    "name": "ipython",
    "version": 3
   },
   "file_extension": ".py",
   "mimetype": "text/x-python",
   "name": "python",
   "nbconvert_exporter": "python",
   "pygments_lexer": "ipython3",
   "version": "3.7.16"
  }
 },
 "nbformat": 4,
 "nbformat_minor": 4
}
