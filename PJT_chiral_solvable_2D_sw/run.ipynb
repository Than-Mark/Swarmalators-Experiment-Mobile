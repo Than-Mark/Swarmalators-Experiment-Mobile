{
 "cells": [
  {
   "cell_type": "code",
   "execution_count": 1,
   "metadata": {},
   "outputs": [],
   "source": [
    "import matplotlib.colors as mcolors\n",
    "import matplotlib.animation as ma\n",
    "import matplotlib.pyplot as plt\n",
    "from itertools import product\n",
    "from typing import List\n",
    "import pandas as pd\n",
    "import numpy as np\n",
    "import numba as nb\n",
    "import imageio\n",
    "import sys\n",
    "import os\n",
    "import shutil\n",
    "\n",
    "randomSeed = 10\n",
    "\n",
    "if \"ipykernel_launcher.py\" in sys.argv[0]:\n",
    "    from tqdm.notebook import tqdm\n",
    "else:\n",
    "    from tqdm import tqdm\n",
    "\n",
    "new_cmap = mcolors.LinearSegmentedColormap.from_list(\n",
    "    \"new\", plt.cm.hsv(np.linspace(0, 1, 256)) * 0.85, N=256\n",
    ")\n",
    "\n",
    "@nb.njit\n",
    "def colors_idx(phaseTheta):\n",
    "    return np.floor(256 - phaseTheta / (2 * np.pi) * 256).astype(np.int32)\n",
    "\n",
    "import seaborn as sns\n",
    "\n",
    "sns.set_theme(\n",
    "    font_scale=1.1, rc={\n",
    "    'figure.figsize': (6, 5),\n",
    "    'axes.facecolor': 'white',\n",
    "    'figure.facecolor': 'white',\n",
    "    'grid.color': '#dddddd',\n",
    "    'grid.linewidth': 0.5,\n",
    "    \"lines.linewidth\": 1.5,\n",
    "    'text.color': '#000000',\n",
    "    'figure.titleweight': \"bold\",\n",
    "    'xtick.color': '#000000',\n",
    "    'ytick.color': '#000000'\n",
    "})\n",
    "\n",
    "plt.rcParams['mathtext.fontset'] = 'cm'\n",
    "\n",
    "if os.path.exists(\"/opt/conda/bin/ffmpeg\"):\n",
    "    plt.rcParams['animation.ffmpeg_path'] = \"/opt/conda/bin/ffmpeg\"\n",
    "else:\n",
    "    plt.rcParams['animation.ffmpeg_path'] = \"D:/Programs/ffmpeg/bin/ffmpeg.exe\"\n",
    "\n",
    "colors = [\"#5C49AC\", \"#1F9BCE\", \"#00B5CA\", \"#BED45F\", \"#F9E03B\"]\n",
    "cmap = mcolors.LinearSegmentedColormap.from_list(\"my_colormap\", colors)\n",
    "cmap_r = mcolors.LinearSegmentedColormap.from_list(\"my_colormap\", colors[::-1])\n",
    "\n",
    "from main import *\n",
    "\n",
    "SAVE_PATH = r\"E:\\MS_ExperimentData\\general\"\n",
    "MP4_PATH = r\"E:\\MS_ExperimentData\\mp4\""
   ]
  },
  {
   "cell_type": "code",
   "execution_count": 2,
   "metadata": {},
   "outputs": [],
   "source": [
    "model = ChiralSolvable2D(K=1)"
   ]
  }
 ],
 "metadata": {
  "kernelspec": {
   "display_name": "py37",
   "language": "python",
   "name": "python3"
  },
  "language_info": {
   "codemirror_mode": {
    "name": "ipython",
    "version": 3
   },
   "file_extension": ".py",
   "mimetype": "text/x-python",
   "name": "python",
   "nbconvert_exporter": "python",
   "pygments_lexer": "ipython3",
   "version": "3.7.16"
  }
 },
 "nbformat": 4,
 "nbformat_minor": 2
}
