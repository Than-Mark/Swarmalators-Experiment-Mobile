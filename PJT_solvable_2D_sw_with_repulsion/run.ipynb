{
 "cells": [
  {
   "cell_type": "code",
   "execution_count": 2,
   "metadata": {},
   "outputs": [],
   "source": [
    "import matplotlib.colors as mcolors\n",
    "import matplotlib.animation as ma\n",
    "import matplotlib.pyplot as plt\n",
    "from itertools import product\n",
    "from typing import List\n",
    "import pandas as pd\n",
    "import numpy as np\n",
    "import numba as nb\n",
    "import imageio\n",
    "import sys\n",
    "import os\n",
    "import shutil\n",
    "\n",
    "randomSeed = 10\n",
    "\n",
    "if \"ipykernel_launcher.py\" in sys.argv[0]:\n",
    "    from tqdm.notebook import tqdm\n",
    "else:\n",
    "    from tqdm import tqdm\n",
    "\n",
    "new_cmap = mcolors.LinearSegmentedColormap.from_list(\n",
    "    \"new\", plt.cm.hsv(np.linspace(0, 1, 256)) * 0.85, N=256\n",
    ")\n",
    "\n",
    "@nb.njit\n",
    "def colors_idx(phaseTheta):\n",
    "    return np.floor(256 - phaseTheta / (2 * np.pi) * 256).astype(np.int32)\n",
    "\n",
    "import seaborn as sns\n",
    "\n",
    "sns.set_theme(\n",
    "    font_scale=1.1, rc={\n",
    "    'figure.figsize': (6, 5),\n",
    "    'axes.facecolor': 'white',\n",
    "    'figure.facecolor': 'white',\n",
    "    'grid.color': '#dddddd',\n",
    "    'grid.linewidth': 0.5,\n",
    "    \"lines.linewidth\": 1.5,\n",
    "    'text.color': '#000000',\n",
    "    'figure.titleweight': \"bold\",\n",
    "    'xtick.color': '#000000',\n",
    "    'ytick.color': '#000000'\n",
    "})\n",
    "\n",
    "plt.rcParams['mathtext.fontset'] = 'cm'\n",
    "\n",
    "if os.path.exists(\"/opt/conda/bin/ffmpeg\"):\n",
    "    plt.rcParams['animation.ffmpeg_path'] = \"/opt/conda/bin/ffmpeg\"\n",
    "else:\n",
    "    plt.rcParams['animation.ffmpeg_path'] = \"D:/Programs/ffmpeg/bin/ffmpeg.exe\"\n",
    "\n",
    "colors = [\"#5C49AC\", \"#1F9BCE\", \"#00B5CA\", \"#BED45F\", \"#F9E03B\"]\n",
    "cmap = mcolors.LinearSegmentedColormap.from_list(\"my_colormap\", colors)\n",
    "cmap_r = mcolors.LinearSegmentedColormap.from_list(\"my_colormap\", colors[::-1])\n",
    "\n",
    "from main import *\n",
    "\n",
    "SAVE_PATH = r\"E:\\MS_ExperimentData\\general\"\n",
    "MP4_PATH = r\"E:\\MS_ExperimentData\\mp4\""
   ]
  },
  {
   "cell_type": "code",
   "execution_count": 27,
   "metadata": {},
   "outputs": [],
   "source": [
    "class Solvable2DWithRepulsion(Swarmalators2D):\n",
    "    def __init__(self, agentsNum: int, dt: float, \n",
    "                 K: float, J: float, P: float,\n",
    "                 randomSeed: int = 100, tqdm: bool = False, savePath: str = None, shotsnaps: int = 5, overWrite: bool = False) -> None:\n",
    "        super().__init__(agentsNum, dt, K, randomSeed, tqdm, savePath, shotsnaps, overWrite)\n",
    "        self.positionX = np.random.random((agentsNum, 2)) * 2 * np.pi\n",
    "        self.J = J\n",
    "        self.P = P\n",
    "        self.one = np.ones((agentsNum, agentsNum))\n",
    "        self.randomSeed = randomSeed\n",
    "\n",
    "    def update_temp(self):\n",
    "        self.temp[\"deltaTheta\"] = self.deltaTheta\n",
    "        self.temp[\"deltaX\"] = self.deltaX\n",
    "\n",
    "    def cotDeltaX(self, deltaX: np.ndarray) -> np.ndarray:\n",
    "        \"\"\"Cotangent of spatial difference: cot(x_j - x_i)\"\"\"\n",
    "        return 1 / (np.tan(deltaX + (deltaX == 0)))\n",
    "\n",
    "    @property\n",
    "    def omega(self) -> np.ndarray:\n",
    "        \"\"\"Natural frequency: 0\"\"\"\n",
    "        return 0\n",
    "\n",
    "    @property\n",
    "    def velocity(self) -> np.ndarray:\n",
    "        \"\"\"Self propulsion velocity: 0\"\"\"\n",
    "        return 0\n",
    "\n",
    "    @property \n",
    "    def Fatt(self) -> np.ndarray:\n",
    "        \"\"\"\n",
    "        Effect of phase similarity on spatial attraction: J * cos(theta_j - theta_i) + 1\n",
    "        \"\"\"\n",
    "        return self.J * np.cos(self.temp[\"deltaTheta\"])\n",
    "    \n",
    "    @property\n",
    "    def Frep(self) -> np.ndarray:\n",
    "        \"\"\"Effect of phase similarity on spatial repulsion: 1\"\"\"\n",
    "        return self.one\n",
    "    \n",
    "    @property\n",
    "    def Iatt(self) -> np.ndarray:\n",
    "        \"\"\"Spatial attraction: sin(x_j - x_i)\"\"\"\n",
    "        return np.sin(3 * self.temp[\"deltaX\"])\n",
    "\n",
    "    @property\n",
    "    def Irep(self) -> np.ndarray:\n",
    "        \"\"\"Spatial repulsion: P * sin((x_j - x_i) / 2)\"\"\"\n",
    "        return self.P * np.sin(2 * self.temp[\"deltaX\"])\n",
    "\n",
    "    @property\n",
    "    def H(self) -> np.ndarray:\n",
    "        \"\"\"Phase interaction: sin(theta_j - theta_i)\"\"\"\n",
    "        return np.sin(self.deltaTheta)\n",
    "    \n",
    "    @property\n",
    "    def G(self) -> np.ndarray:\n",
    "        \"\"\"\n",
    "        Effect of spatial similarity on phase couplings: cos(x_j - x_i) + cos(y_j - y_i)\n",
    "        \"\"\"\n",
    "        return np.cos(self.deltaX).sum(axis=-1)\n",
    "\n",
    "    @staticmethod\n",
    "    @nb.njit\n",
    "    def _update(\n",
    "        positionX: np.ndarray, phaseTheta: np.ndarray,\n",
    "        velocity: np.ndarray, omega: np.ndarray,\n",
    "        Iatt: np.ndarray, Irep: np.ndarray,\n",
    "        Fatt: np.ndarray, Frep: np.ndarray,\n",
    "        H: np.ndarray, G: np.ndarray,\n",
    "        K: float, dt: float\n",
    "    ):\n",
    "        dim = positionX.shape[0]\n",
    "        pointX = velocity + np.sum(\n",
    "            Iatt * Fatt.reshape((dim, dim, 1)) - Irep * Frep.reshape((dim, dim, 1)),\n",
    "            axis=1\n",
    "        ) / dim\n",
    "        pointTheta = omega + K * np.sum(H * G, axis=1) / dim\n",
    "        positionX = np.mod(positionX + pointX * dt, 2 * np.pi)\n",
    "        phaseTheta = np.mod(phaseTheta + pointTheta * dt, 2 * np.pi)\n",
    "        return positionX, phaseTheta\n",
    "\n",
    "    def update(self) -> None:\n",
    "        self.update_temp()\n",
    "        self.positionX, self.phaseTheta = self._update(\n",
    "            self.positionX, self.phaseTheta,\n",
    "            self.velocity, self.omega,\n",
    "            self.Iatt, self.Irep,\n",
    "            self.Fatt, self.Frep,\n",
    "            self.H, self.G,\n",
    "            self.K, self.dt\n",
    "        )\n",
    "        self.counts += 1\n",
    "\n",
    "    def plot(self, ax: plt.Axes = None, fixLim: bool = True) -> None:\n",
    "        if ax is None:\n",
    "            fig, ax = plt.subplots(figsize=(6, 5))\n",
    "\n",
    "        sc = ax.scatter(self.positionX[:, 0], self.positionX[:, 1],\n",
    "                    c=self.phaseTheta, cmap=new_cmap, alpha=0.8, vmin=0, vmax=2*np.pi)\n",
    "\n",
    "        cbar = plt.colorbar(sc, ticks=[0, np.pi, 2*np.pi], ax=ax)\n",
    "        cbar.ax.set_ylim(0, 2*np.pi)\n",
    "        cbar.ax.set_yticklabels(['$0$', '$\\pi$', '$2\\pi$'])\n",
    "        if fixLim:\n",
    "            ax.set_xlim(0, 2*np.pi)\n",
    "            ax.set_xticks([0, np.pi, 2*np.pi])\n",
    "            ax.set_xticklabels(['$0$', '$\\pi$', '$2\\pi$'])\n",
    "            ax.set_ylim(0, 2*np.pi)\n",
    "            ax.set_yticks([0, np.pi, 2*np.pi])\n",
    "            ax.set_yticklabels(['$0$', '$\\pi$', '$2\\pi$'])\n",
    "\n",
    "    def __str__(self):\n",
    "        name = (\n",
    "            f\"Solvable2DWithRepulsion_\"\n",
    "            f\"Agents.{self.agentsNum}_\"\n",
    "            f\"K.{self.K}_\"\n",
    "            f\"J.{self.J}_\"\n",
    "            f\"P.{self.P}_\"\n",
    "            f\"dt.{self.dt}_\"\n",
    "            f\"seed.{self.randomSeed}\"\n",
    "        )\n",
    "        return name"
   ]
  },
  {
   "cell_type": "code",
   "execution_count": 28,
   "metadata": {},
   "outputs": [],
   "source": [
    "model = Solvable2DWithRepulsion(\n",
    "    agentsNum=500, dt=0.1, K=0.2, J=0.1, P=0, \n",
    "    tqdm=True, savePath=None, overWrite=True\n",
    ")\n",
    "# model.plot(fixLim=False)\n",
    "# model.plot(fixLim=True)"
   ]
  },
  {
   "cell_type": "code",
   "execution_count": 29,
   "metadata": {},
   "outputs": [
    {
     "data": {
      "application/vnd.jupyter.widget-view+json": {
       "model_id": "a36e33c6df094ee69d042431914557b6",
       "version_major": 2,
       "version_minor": 0
      },
      "text/plain": [
       "  0%|          | 0/2000 [00:00<?, ?it/s]"
      ]
     },
     "metadata": {},
     "output_type": "display_data"
    }
   ],
   "source": [
    "model.run(2000)"
   ]
  },
  {
   "cell_type": "code",
   "execution_count": 30,
   "metadata": {},
   "outputs": [
    {
     "data": {
      "image/png": "[encoded data removed]",
      "text/plain": [
       "<Figure size 600x500 with 2 Axes>"
      ]
     },
     "metadata": {},
     "output_type": "display_data"
    }
   ],
   "source": [
    "# model.update()\n",
    "model.plot(fixLim=True)"
   ]
  },
  {
   "cell_type": "code",
   "execution_count": 11,
   "metadata": {},
   "outputs": [
    {
     "name": "stderr",
     "output_type": "stream",
     "text": [
      "100%|██████████| 1001/1001 [02:56<00:00,  5.67it/s]\n"
     ]
    }
   ],
   "source": [
    "draw_mp4(model, savePath=SAVE_PATH, mp4Path=MP4_PATH, fixLim=True)"
   ]
  }
 ],
 "metadata": {
  "kernelspec": {
   "display_name": "py37",
   "language": "python",
   "name": "python3"
  },
  "language_info": {
   "codemirror_mode": {
    "name": "ipython",
    "version": 3
   },
   "file_extension": ".py",
   "mimetype": "text/x-python",
   "name": "python",
   "nbconvert_exporter": "python",
   "pygments_lexer": "ipython3",
   "version": "3.7.16"
  }
 },
 "nbformat": 4,
 "nbformat_minor": 2
}
