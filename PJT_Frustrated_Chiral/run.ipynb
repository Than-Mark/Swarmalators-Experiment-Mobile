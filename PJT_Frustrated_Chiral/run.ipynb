{
 "cells": [
  {
   "cell_type": "code",
   "execution_count": null,
   "id": "8bf01f0b",
   "metadata": {},
   "outputs": [],
   "source": [
    "import matplotlib.patches as patches\n",
    "import matplotlib.colors as mcolors\n",
    "import matplotlib.animation as ma\n",
    "import matplotlib.pyplot as plt\n",
    "from tqdm.notebook import tqdm\n",
    "from itertools import product\n",
    "import pandas as pd\n",
    "import numpy as np\n",
    "import numba as nb\n",
    "import imageio\n",
    "import os\n",
    "import shutil\n",
    "import sys\n",
    "sys.path.append(\"..\")\n",
    "\n",
    "randomSeed = 100\n",
    "\n",
    "%matplotlib inline\n",
    "%config InlineBackend.figure_format = \"retina\"\n",
    "\n",
    "new_cmap = mcolors.LinearSegmentedColormap.from_list(\n",
    "    \"new\", plt.cm.jet(np.linspace(0, 1, 256)) * 0.85, N=256\n",
    ")\n",
    "\n",
    "@nb.njit\n",
    "def colors_idx(phaseTheta):\n",
    "    return np.floor(256 - phaseTheta / (2 * np.pi) * 256).astype(np.int32)\n",
    "\n",
    "import seaborn as sns\n",
    "\n",
    "sns.set_theme(\n",
    "    style=\"ticks\", \n",
    "    font_scale=1.1, rc={\n",
    "    'figure.figsize': (6, 5),\n",
    "    'axes.facecolor': 'white',\n",
    "    'figure.facecolor': 'white',\n",
    "    'grid.color': '#dddddd',\n",
    "    'grid.linewidth': 0.5,\n",
    "    \"lines.linewidth\": 1.5,\n",
    "    'text.color': '#000000',\n",
    "    'figure.titleweight': \"bold\",\n",
    "    'xtick.color': '#000000',\n",
    "    'ytick.color': '#000000'\n",
    "})\n",
    "\n",
    "plt.rcParams['mathtext.fontset'] = 'cm'\n",
    "plt.rcParams['font.family'] = 'STIXGeneral'\n",
    "# plt.rcParams['animation.ffmpeg_path'] = \"/opt/conda/bin/ffmpeg\"\n",
    "\n",
    "from main import *\n",
    "from multiprocessing import Pool\n",
    "import pandas as pd\n",
    "\n",
    "colors = [\"#403990\", \"#3A76D6\", \"#FFC001\", \"#F46F43\", \"#FF0000\"]\n",
    "cmap = mcolors.LinearSegmentedColormap.from_list(\"cmap\", colors)\n",
    "new_cmap = mcolors.LinearSegmentedColormap.from_list(\n",
    "    \"new\", plt.cm.hsv(np.linspace(0, 1, 256)) * 0.85, N=256\n",
    ")\n",
    "\n",
    "SAVE_PATH = r\"F:\\MS_ExperimentData\\general\"\n",
    "MP4_PATH = r\"F:\\MS_ExperimentData\\mp4\"\n",
    "\n",
    "# SAVE_PATH = r\"D:\\MS_ExperimentData\\general\"\n",
    "# MP4_PATH = r\"D:\\MS_ExperimentData\\mp4\"\n",
    "\n",
    "# LOCAL_FIG_PATH = \"./PCT_C_figs\"\n",
    "LOCAL_FIG_PATH = \"./figs\""
   ]
  },
  {
   "cell_type": "code",
   "execution_count": null,
   "id": "e0b059ed",
   "metadata": {},
   "outputs": [],
   "source": [
    "model = FrustratedChiral(\n",
    "    strengthK=20, distanceD0=1, phaseLagA0=0.6 * np.pi,\n",
    "    omegaMean=1, deltaOmega=0,\n",
    "    agentsNum=1000, dt=0.005,\n",
    "    tqdm=True, savePath=SAVE_PATH, shotsnaps=1, \n",
    "    randomSeed=10, overWrite=False\n",
    ")"
   ]
  },
  {
   "cell_type": "code",
   "execution_count": null,
   "id": "e70bec46",
   "metadata": {},
   "outputs": [],
   "source": [
    "model.run(10000)"
   ]
  },
  {
   "cell_type": "code",
   "execution_count": null,
   "id": "61c2f785",
   "metadata": {},
   "outputs": [],
   "source": [
    "model.plot()"
   ]
  }
 ],
 "metadata": {
  "kernelspec": {
   "display_name": "p310",
   "language": "python",
   "name": "python3"
  },
  "language_info": {
   "codemirror_mode": {
    "name": "ipython",
    "version": 3
   },
   "file_extension": ".py",
   "mimetype": "text/x-python",
   "name": "python",
   "nbconvert_exporter": "python",
   "pygments_lexer": "ipython3",
   "version": "3.10.18"
  }
 },
 "nbformat": 4,
 "nbformat_minor": 5
}
