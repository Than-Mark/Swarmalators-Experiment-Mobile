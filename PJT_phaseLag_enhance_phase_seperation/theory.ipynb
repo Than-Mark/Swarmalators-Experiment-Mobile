{
 "cells": [
  {
   "cell_type": "code",
   "execution_count": 9,
   "metadata": {},
   "outputs": [],
   "source": [
    "import sympy as sp\n",
    "\n",
    "x = sp.symbols(\"x\")\n",
    "\n",
    "def F_m(m):\n",
    "    return sp.integrate(sp.sin(x)*sp.E**(-sp.I*x*m), (x, -sp.pi, sp.pi))\n",
    "\n",
    "v, K, alpha0 = sp.symbols(r\"v  K \\alpha_0\")\n",
    "nabdaWp, nabdaWm = sp.symbols(r\"\\nabla\\mathbf{W}^+, \\nabla\\mathbf{W}^-\")\n",
    "omegaBarp, omegaBarm = sp.symbols(r\"\\bar{\\omega}^+, \\bar{\\omega}^-\")\n",
    "varrho2p, varrho2m = sp.symbols(r\"\\varrho_2^+, \\varrho_2^-\")\n",
    "wp, wm = sp.symbols(r\"\\mathbf{W}^+, \\mathbf{W}^-\")\n",
    "rhop, rhom = sp.symbols(r\"\\rho^+, \\rho^-\")\n",
    "\n",
    "eqDotVarrho2p = sp.Eq(\n",
    "    -v / 2 * nabdaWp + 2 * sp.I * omegaBarp * varrho2p\n",
    "    + sp.I * 2 * K / 2 / sp.pi * (wp * wp * F_m(1) + sp.E**(-sp.I * alpha0) * wp * wm * F_m(1))\n",
    "    - sp.I * 2 * K * rhom * varrho2p * sp.sin(alpha0)\n",
    ", 0)\n",
    "eqDotVarrho2m = sp.Eq(\n",
    "    -v / 2 * nabdaWm + 2 * sp.I * omegaBarm * varrho2m\n",
    "    + sp.I * 2 * K / 2 / sp.pi * (wm * wm * F_m(1) + sp.E**(-sp.I * alpha0) * wm * wp * F_m(1))\n",
    "    - sp.I * 2 * K * rhop * varrho2m * sp.sin(alpha0)\n",
    ", 0)\n",
    "solution = sp.solve((eqDotVarrho2p, eqDotVarrho2m), (varrho2p, varrho2m))"
   ]
  },
  {
   "cell_type": "code",
   "execution_count": 2,
   "metadata": {},
   "outputs": [
    {
     "data": {
      "text/latex": [
       "$\\displaystyle - i \\pi$"
      ],
      "text/plain": [
       "-I*pi"
      ]
     },
     "execution_count": 2,
     "metadata": {},
     "output_type": "execute_result"
    }
   ],
   "source": [
    "F_m(1)"
   ]
  },
  {
   "cell_type": "code",
   "execution_count": 68,
   "metadata": {},
   "outputs": [
    {
     "name": "stdout",
     "output_type": "stream",
     "text": [
      "- 2 i K \\rho^{-} \\varrho^{+}_{2} \\sin{\\left(\\alpha_{0} \\right)} + \\frac{i K \\left(- i \\pi \\left(\\mathbf{W}^+\\right)^{2} - i \\pi \\mathbf{W}^+ \\mathbf{W}^- e^{- i \\alpha_{0}}\\right)}{\\pi} + 2 i \\bar{\\omega}^+ \\varrho^{+}_{2} - \\frac{\\nabla\\mathbf{W}^+ v}{2} = 0\n"
     ]
    }
   ],
   "source": [
    "eqDotVarrho2p\n",
    "print(sp.latex(eqDotVarrho2p))"
   ]
  },
  {
   "cell_type": "code",
   "execution_count": 10,
   "metadata": {},
   "outputs": [
    {
     "data": {
      "text/latex": [
       "$\\displaystyle - \\frac{2 i K \\left(\\mathbf{W}^+\\right)^{2} e^{i \\alpha_{0}}}{4 K \\rho^{-} e^{i \\alpha_{0}} \\sin{\\left(\\alpha_{0} \\right)} - 4 \\bar{\\omega}^+ e^{i \\alpha_{0}}} - \\frac{2 i K \\mathbf{W}^+ \\mathbf{W}^-}{4 K \\rho^{-} e^{i \\alpha_{0}} \\sin{\\left(\\alpha_{0} \\right)} - 4 \\bar{\\omega}^+ e^{i \\alpha_{0}}} + \\frac{i \\nabla\\mathbf{W}^+ v e^{i \\alpha_{0}}}{4 K \\rho^{-} e^{i \\alpha_{0}} \\sin{\\left(\\alpha_{0} \\right)} - 4 \\bar{\\omega}^+ e^{i \\alpha_{0}}}$"
      ],
      "text/plain": [
       "-2*I*K*\\mathbf{W}^+**2*exp(I*\\alpha_0)/(4*K*\\rho^-*exp(I*\\alpha_0)*sin(\\alpha_0) - 4*\\bar{\\omega}^+*exp(I*\\alpha_0)) - 2*I*K*\\mathbf{W}^+*\\mathbf{W}^-/(4*K*\\rho^-*exp(I*\\alpha_0)*sin(\\alpha_0) - 4*\\bar{\\omega}^+*exp(I*\\alpha_0)) + I*\\nabla\\mathbf{W}^+*v*exp(I*\\alpha_0)/(4*K*\\rho^-*exp(I*\\alpha_0)*sin(\\alpha_0) - 4*\\bar{\\omega}^+*exp(I*\\alpha_0))"
      ]
     },
     "execution_count": 10,
     "metadata": {},
     "output_type": "execute_result"
    }
   ],
   "source": [
    "sp.expand(solution[varrho2p])"
   ]
  },
  {
   "cell_type": "code",
   "execution_count": 6,
   "metadata": {},
   "outputs": [],
   "source": [
    "solution[varrho2p] = sp.simplify(sp.expand(solution[varrho2p]))\n",
    "solution[varrho2m] = sp.simplify(sp.expand(solution[varrho2m]))"
   ]
  },
  {
   "cell_type": "code",
   "execution_count": 8,
   "metadata": {},
   "outputs": [
    {
     "name": "stdout",
     "output_type": "stream",
     "text": [
      "\\frac{i \\left(- 2 K \\left(\\mathbf{W}^+\\right)^{2} e^{i \\alpha_{0}} - 2 K \\mathbf{W}^+ \\mathbf{W}^- + \\nabla\\mathbf{W}^+ v e^{i \\alpha_{0}}\\right) e^{- i \\alpha_{0}}}{4 \\left(K \\rho^{-} \\sin{\\left(\\alpha_{0} \\right)} - \\bar{\\omega}^+\\right)}\n"
     ]
    }
   ],
   "source": [
    "print(sp.latex(solution[varrho2p]))"
   ]
  },
  {
   "cell_type": "code",
   "execution_count": 5,
   "metadata": {},
   "outputs": [
    {
     "data": {
      "text/latex": [
       "$\\displaystyle \\frac{i \\left(- 2 K \\mathbf{W}^+ \\mathbf{W}^- - 2 K \\left(\\mathbf{W}^-\\right)^{2} e^{i \\alpha_{0}} + \\nabla\\mathbf{W}^- v e^{i \\alpha_{0}}\\right) e^{- i \\alpha_{0}}}{4 \\left(K \\rho^{+} \\sin{\\left(\\alpha_{0} \\right)} - \\bar{\\omega}^-\\right)}$"
      ],
      "text/plain": [
       "I*(-2*K*\\mathbf{W}^+*\\mathbf{W}^- - 2*K*\\mathbf{W}^-**2*exp(I*\\alpha_0) + \\nabla\\mathbf{W}^-*v*exp(I*\\alpha_0))*exp(-I*\\alpha_0)/(4*(K*\\rho^+*sin(\\alpha_0) - \\bar{\\omega}^-))"
      ]
     },
     "execution_count": 5,
     "metadata": {},
     "output_type": "execute_result"
    }
   ],
   "source": [
    "sp.simplify(solution[varrho2m])"
   ]
  },
  {
   "cell_type": "code",
   "execution_count": 17,
   "metadata": {},
   "outputs": [
    {
     "name": "stdout",
     "output_type": "stream",
     "text": [
      "y 的表达式: 4\n"
     ]
    }
   ],
   "source": [
    "import sympy as sp\n",
    "\n",
    "# 定义符号变量\n",
    "x, y = sp.symbols('x y')\n",
    "\n",
    "# 定义方程组\n",
    "eq1 = sp.Eq(x + y, 10)\n",
    "eq2 = sp.Eq(x - y, 2)\n",
    "\n",
    "# 解方程组，求解 y 的表达式\n",
    "solution = sp.solve((eq1, eq2), (x, y))\n",
    "\n",
    "# 输出结果\n",
    "y_expression = solution[y]\n",
    "print(f'y 的表达式: {y_expression}')"
   ]
  }
 ],
 "metadata": {
  "kernelspec": {
   "display_name": "py37",
   "language": "python",
   "name": "python3"
  },
  "language_info": {
   "codemirror_mode": {
    "name": "ipython",
    "version": 3
   },
   "file_extension": ".py",
   "mimetype": "text/x-python",
   "name": "python",
   "nbconvert_exporter": "python",
   "pygments_lexer": "ipython3",
   "version": "3.7.16"
  }
 },
 "nbformat": 4,
 "nbformat_minor": 2
}
