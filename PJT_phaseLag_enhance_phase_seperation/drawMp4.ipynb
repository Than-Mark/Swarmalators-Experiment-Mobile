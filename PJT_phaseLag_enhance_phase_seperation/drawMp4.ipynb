{
 "cells": [
  {
   "cell_type": "code",
   "execution_count": 1,
   "metadata": {},
   "outputs": [],
   "source": [
    "import matplotlib.colors as mcolors\n",
    "import matplotlib.animation as ma\n",
    "import matplotlib.pyplot as plt\n",
    "from tqdm.notebook import tqdm\n",
    "from itertools import product\n",
    "import pandas as pd\n",
    "import numpy as np\n",
    "import numba as nb\n",
    "import imageio\n",
    "import os\n",
    "import shutil\n",
    "\n",
    "%matplotlib inline\n",
    "%config InlineBackend.figure_format = \"retina\"\n",
    "\n",
    "new_cmap = mcolors.LinearSegmentedColormap.from_list(\n",
    "    \"new\", plt.cm.jet(np.linspace(0, 1, 256)) * 0.85, N=256\n",
    ")\n",
    "\n",
    "@nb.njit\n",
    "def colors_idx(phaseTheta):\n",
    "    return np.floor(256 - phaseTheta / (2 * np.pi) * 256).astype(np.int32)\n",
    "\n",
    "import seaborn as sns\n",
    "\n",
    "sns.set_theme(\n",
    "    style=\"ticks\", \n",
    "    font_scale=1.1, rc={\n",
    "    'figure.figsize': (6, 5),\n",
    "    'axes.facecolor': 'white',\n",
    "    'figure.facecolor': 'white',\n",
    "    'grid.color': '#dddddd',\n",
    "    'grid.linewidth': 0.5,\n",
    "    \"lines.linewidth\": 1.5,\n",
    "    'text.color': '#000000',\n",
    "    'figure.titleweight': \"bold\",\n",
    "    'xtick.color': '#000000',\n",
    "    'ytick.color': '#000000'\n",
    "})\n",
    "\n",
    "plt.rcParams['mathtext.fontset'] = 'cm'\n",
    "plt.rcParams['font.family'] = 'STIXGeneral'\n",
    "\n",
    "from main import *\n",
    "from multiprocessing import Pool\n",
    "import pandas as pd\n",
    "\n",
    "colors = [\"#403990\", \"#80A6E2\", \"#FBDD85\", \"#F46F43\", \"#CF3D3E\"]\n",
    "cmap = mcolors.LinearSegmentedColormap.from_list(\"my_colormap\", colors)\n",
    "cmap_r = mcolors.LinearSegmentedColormap.from_list(\"my_colormap\", colors[::-1])\n",
    "\n",
    "SAVE_PATH = r\"E:\\MS_ExperimentData\\general\"\n",
    "MP4_PATH = r\"E:\\MS_ExperimentData\\mp4\""
   ]
  },
  {
   "cell_type": "code",
   "execution_count": 2,
   "metadata": {},
   "outputs": [],
   "source": [
    "class1, class2 = (\n",
    "    np.concatenate([np.ones(500), np.zeros(500)]).astype(bool), \n",
    "    np.concatenate([np.zeros(500), np.ones(500)]).astype(bool)\n",
    ")\n",
    "scale = 35\n",
    "width = 0.003\n",
    "\n",
    "def draw_mp4(sa: StateAnalysis, fileName: str, mp4Path: str = MP4_PATH, step: int = 1, tailCounts: int = None):\n",
    "    \n",
    "    def plot_frame(i):\n",
    "        pbar.update(1)\n",
    "        fig.clear()\n",
    "        ax = plt.subplot(1, 1, 1)\n",
    "        singlePositionX, singlePhaseTheta, _ = sa.get_state(index=i)\n",
    "\n",
    "        plt.scatter(\n",
    "            singlePositionX[class1, 0], singlePositionX[class1, 1],\n",
    "            color=\"#F8B08E\", # edgecolors=\"black\"\n",
    "        )\n",
    "        plt.scatter(\n",
    "            singlePositionX[class2, 0], singlePositionX[class2, 1],\n",
    "            color=\"#9BD5D5\", # edgecolors=\"black\"\n",
    "        )\n",
    "        ax.quiver(\n",
    "            singlePositionX[class1, 0], singlePositionX[class1, 1],\n",
    "            np.cos(singlePhaseTheta[class1]), np.sin(singlePhaseTheta[class1]), color='#F16623', \n",
    "            scale=scale, width=width\n",
    "        )\n",
    "        ax.quiver(\n",
    "            singlePositionX[class2, 0], singlePositionX[class2, 1],\n",
    "            np.cos(singlePhaseTheta[class2]), np.sin(singlePhaseTheta[class2]), color='#49B2B2', \n",
    "            scale=scale, width=width\n",
    "        )\n",
    "\n",
    "        strengthLambda = np.round(sa.model.strengthLambda, 3)\n",
    "        distanceD0 = np.round(sa.model.distanceD0, 2)\n",
    "        ax.set_title(f\"$\\lambda={strengthLambda},\\ d_0={distanceD0}$\", fontweight=\"bold\")\n",
    "        ax.set_xlim(0, 10)\n",
    "        ax.set_ylim(0, 10)\n",
    "        ax.set_xticks([])\n",
    "        ax.set_yticks([])\n",
    "        plt.tight_layout()\n",
    "\n",
    "    fig, _ = plt.subplots(1, 1, figsize=(4, 4))\n",
    "    TNum = sa.TNum\n",
    "    startIdx = TNum - tailCounts * step if tailCounts else 0\n",
    "    frames = np.arange(startIdx, TNum, step)\n",
    "    pbar = tqdm(total=len(frames))\n",
    "    ani = ma.FuncAnimation(fig, plot_frame, frames=frames, interval=40, repeat=False)\n",
    "    ani.save(f\"{mp4Path}/{fileName}.mp4\", dpi=200)\n",
    "    plt.close()\n",
    "    pbar.close()"
   ]
  },
  {
   "cell_type": "code",
   "execution_count": 3,
   "metadata": {},
   "outputs": [],
   "source": [
    "omegaMins = np.linspace(0.1, 0.5, 30)\n",
    "phaseLags = np.linspace(-1, 1, 30) * np.pi\n",
    "randomSeed = 9\n",
    "strengthLambda = 0.15\n",
    "distanceD0 = 0.5\n",
    "deltaOmega = 1\n",
    "halfAgentsNum = 500\n",
    "Homega = np.block([\n",
    "    [np.ones((halfAgentsNum, halfAgentsNum)), np.zeros((halfAgentsNum, halfAgentsNum))],\n",
    "    [np.zeros((halfAgentsNum, halfAgentsNum)), np.ones((halfAgentsNum, halfAgentsNum))]\n",
    "])\n",
    "\n",
    "SAVE_PATH = r\"E:\\MS_ExperimentData\\general\""
   ]
  },
  {
   "cell_type": "code",
   "execution_count": 4,
   "metadata": {},
   "outputs": [],
   "source": [
    "phaseLag = phaseLags[7]\n",
    "omegaMin = omegaMins[0]\n",
    "\n",
    "model = ChiralInducedPhaseLag(strengthLambda=strengthLambda, distanceD0=distanceD0, boundaryLength=10,\n",
    "                            phaseLag=phaseLag, agentsNum=1000,\n",
    "                            omegaMin=omegaMin, deltaOmega=deltaOmega,\n",
    "                            savePath=SAVE_PATH, dt=0.02,\n",
    "                            tqdm=True, overWrite=True, randomSeed=randomSeed)\n",
    "\n",
    "sa = StateAnalysis(model)"
   ]
  },
  {
   "cell_type": "code",
   "execution_count": 6,
   "metadata": {},
   "outputs": [
    {
     "data": {
      "application/vnd.jupyter.widget-view+json": {
       "model_id": "450b1984b8364bd78979d11768c97021",
       "version_major": 2,
       "version_minor": 0
      },
      "text/plain": [
       "  0%|          | 0/6002 [00:00<?, ?it/s]"
      ]
     },
     "metadata": {},
     "output_type": "display_data"
    }
   ],
   "source": [
    "draw_mp4(sa, str(model), tailCounts=None)"
   ]
  }
 ],
 "metadata": {
  "kernelspec": {
   "display_name": "py37",
   "language": "python",
   "name": "python3"
  },
  "language_info": {
   "codemirror_mode": {
    "name": "ipython",
    "version": 3
   },
   "file_extension": ".py",
   "mimetype": "text/x-python",
   "name": "python",
   "nbconvert_exporter": "python",
   "pygments_lexer": "ipython3",
   "version": "3.7.16"
  }
 },
 "nbformat": 4,
 "nbformat_minor": 2
}
