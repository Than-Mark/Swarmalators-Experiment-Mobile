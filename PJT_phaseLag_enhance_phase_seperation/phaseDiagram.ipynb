{
 "cells": [
  {
   "cell_type": "code",
   "execution_count": 1,
   "metadata": {},
   "outputs": [],
   "source": [
    "import matplotlib.colors as mcolors\n",
    "import matplotlib.animation as ma\n",
    "import matplotlib.pyplot as plt\n",
    "from tqdm.notebook import tqdm\n",
    "from itertools import product\n",
    "import pandas as pd\n",
    "import numpy as np\n",
    "import numba as nb\n",
    "import imageio\n",
    "import os\n",
    "import shutil\n",
    "\n",
    "randomSeed = 100\n",
    "\n",
    "%matplotlib inline\n",
    "%config InlineBackend.figure_format = \"retina\"\n",
    "\n",
    "new_cmap = mcolors.LinearSegmentedColormap.from_list(\n",
    "    \"new\", plt.cm.jet(np.linspace(0, 1, 256)) * 0.85, N=256\n",
    ")\n",
    "\n",
    "@nb.njit\n",
    "def colors_idx(phaseTheta):\n",
    "    return np.floor(256 - phaseTheta / (2 * np.pi) * 256).astype(np.int32)\n",
    "\n",
    "import seaborn as sns\n",
    "\n",
    "sns.set_theme(\n",
    "    style=\"ticks\", \n",
    "    font_scale=1.1, rc={\n",
    "    'figure.figsize': (6, 5),\n",
    "    'axes.facecolor': 'white',\n",
    "    'figure.facecolor': 'white',\n",
    "    'grid.color': '#dddddd',\n",
    "    'grid.linewidth': 0.5,\n",
    "    \"lines.linewidth\": 1.5,\n",
    "    'text.color': '#000000',\n",
    "    'figure.titleweight': \"bold\",\n",
    "    'xtick.color': '#000000',\n",
    "    'ytick.color': '#000000'\n",
    "})\n",
    "\n",
    "plt.rcParams['mathtext.fontset'] = 'cm'\n",
    "plt.rcParams['font.family'] = 'STIXGeneral'\n",
    "plt.rcParams['animation.ffmpeg_path'] = \"/opt/conda/bin/ffmpeg\"\n",
    "\n",
    "from main import *\n",
    "from multiprocessing import Pool\n",
    "import pandas as pd\n",
    "\n",
    "colors = [\"#403990\", \"#80A6E2\", \"#FBDD85\", \"#F46F43\", \"#CF3D3E\"]\n",
    "cmap = mcolors.LinearSegmentedColormap.from_list(\"my_colormap\", colors)\n",
    "cmap_r = mcolors.LinearSegmentedColormap.from_list(\"my_colormap\", colors[::-1])\n",
    "\n",
    "SAVE_PATH = r\"./data\""
   ]
  },
  {
   "cell_type": "code",
   "execution_count": 13,
   "metadata": {},
   "outputs": [],
   "source": [
    "omegaMins = np.linspace(0.1, 3, 21)\n",
    "phaseLags = np.linspace(-1, 1, 21) * np.pi\n",
    "randomSeed = 10  # plot phase diagram and snapshot, use random seeds (9, 10)\n",
    "strengthLambda = 0.15 * 32 * 2 * 2\n",
    "distanceD0 = 1\n",
    "deltaOmega = 1\n",
    "boundaryLength = 7\n",
    "halfAgentsNum = 500\n",
    "Homega = np.block([\n",
    "    [np.ones((halfAgentsNum, halfAgentsNum)), np.zeros((halfAgentsNum, halfAgentsNum))],\n",
    "    [np.zeros((halfAgentsNum, halfAgentsNum)), np.ones((halfAgentsNum, halfAgentsNum))]\n",
    "])\n",
    "\n",
    "SAVE_PATH = \"./data\"  # r\"E:\\MS_ExperimentData\\general\""
   ]
  },
  {
   "cell_type": "code",
   "execution_count": 14,
   "metadata": {},
   "outputs": [
    {
     "data": {
      "application/vnd.jupyter.widget-view+json": {
       "model_id": "c242de4185d042189b366dd10633da74",
       "version_major": 2,
       "version_minor": 0
      },
      "text/plain": [
       "  0%|          | 0/441 [00:00<?, ?it/s]"
      ]
     },
     "metadata": {},
     "output_type": "display_data"
    }
   ],
   "source": [
    "models = [\n",
    "    MeanFieldChiralInducedPhaseLag(\n",
    "        strengthLambda=strengthLambda, distanceD0=distanceD0, boundaryLength=boundaryLength,\n",
    "        phaseLag=phaseLag, \n",
    "        distribution=\"uniform\", initPhaseTheta=np.zeros(1000),\n",
    "        omegaMin=omegaMin, deltaOmega=deltaOmega,\n",
    "        agentsNum=1000, savePath=SAVE_PATH, dt=0.01,\n",
    "        tqdm=True, overWrite=True, randomSeed=randomSeed, shotsnaps=10\n",
    "    )\n",
    "    for omegaMin in omegaMins\n",
    "    for phaseLag in phaseLags\n",
    "]\n",
    "\n",
    "def get_state_analysis(model):\n",
    "    return StateAnalysis(model)\n",
    "\n",
    "with Pool(49) as p:\n",
    "    sas = p.map(get_state_analysis, tqdm(models))"
   ]
  },
  {
   "cell_type": "markdown",
   "metadata": {},
   "source": [
    "# Calc Order Parameter $S$ and Phase Diagram"
   ]
  },
  {
   "cell_type": "code",
   "execution_count": 4,
   "metadata": {},
   "outputs": [
    {
     "data": {
      "application/vnd.jupyter.widget-view+json": {
       "model_id": "44fd4ca4165848a9ba1d07394de513d7",
       "version_major": 2,
       "version_minor": 0
      },
      "text/plain": [
       "  0%|          | 0/441 [00:00<?, ?it/s]"
      ]
     },
     "metadata": {},
     "output_type": "display_data"
    }
   ],
   "source": [
    "SvaluesMap = dict()\n",
    "\n",
    "def calc_Svalues(sa):\n",
    "    Svalues = []\n",
    "    for lastTindex in np.arange(-1, -100, -10):\n",
    "        positionX, _, _ = sa.get_state(index=lastTindex)\n",
    "\n",
    "        deltaX = MeanFieldChiralInducedPhaseLag._delta_x(\n",
    "            positionX, positionX[:, np.newaxis], \n",
    "            sa.model.boundaryLength, sa.model.halfBoundaryLength\n",
    "        )\n",
    "        Aij = MeanFieldChiralInducedPhaseLag.distance_x(deltaX) <= 0.1\n",
    "        Svalues.append(((Homega * Aij).sum(axis=0) / Aij.sum(axis=0)).mean())\n",
    "    return Svalues\n",
    "\n",
    "with Pool(49) as p:\n",
    "    results = p.map(calc_Svalues, tqdm(sas))\n",
    "\n",
    "for i, sa in enumerate(sas):\n",
    "    SvaluesMap[(sa.model.omegaMin, sa.model.phaseLag)] = results[i].copy()"
   ]
  },
  {
   "cell_type": "code",
   "execution_count": 5,
   "metadata": {},
   "outputs": [
    {
     "data": {
      "application/vnd.jupyter.widget-view+json": {
       "model_id": "7f762e826ee048dcb328dbba98b3d67f",
       "version_major": 2,
       "version_minor": 0
      },
      "text/plain": [
       "  0%|          | 0/441 [00:00<?, ?it/s]"
      ]
     },
     "metadata": {},
     "output_type": "display_data"
    }
   ],
   "source": [
    "maps = pd.DataFrame(index=omegaMins, columns=phaseLags)\n",
    "\n",
    "for i, sa in tqdm(enumerate(sas), total=len(sas)):\n",
    "    Svalues = SvaluesMap[(sa.model.omegaMin, sa.model.phaseLag)]\n",
    "    maps.loc[sa.model.omegaMin, sa.model.phaseLag] = np.percentile(Svalues, 30)  # np.percentile(Svalues, 50)\n",
    "\n",
    "maps = maps.astype(float)\n",
    "maps.to_csv(\n",
    "    f\"./tables/meanFieldOrderParameter_S_\"\n",
    "    f\"l{strengthLambda}_d{distanceD0}_dO{deltaOmega}_rS{randomSeed}.csv\"\n",
    ")"
   ]
  },
  {
   "cell_type": "code",
   "execution_count": 6,
   "metadata": {},
   "outputs": [
    {
     "data": {
      "application/vnd.jupyter.widget-view+json": {
       "model_id": "d80ff84c01044aaf90ed741f11672dc8",
       "version_major": 2,
       "version_minor": 0
      },
      "text/plain": [
       "  0%|          | 0/441 [00:00<?, ?it/s]"
      ]
     },
     "metadata": {},
     "output_type": "display_data"
    }
   ],
   "source": [
    "MvaluesMap = dict()\n",
    "\n",
    "def calc_Svalues(sa):\n",
    "    Mvalues = []\n",
    "    for lastTindex in np.arange(-1, -100, -10):\n",
    "        positionX, _, _ = sa.get_state(index=lastTindex)\n",
    "\n",
    "        deltaX = MeanFieldChiralInducedPhaseLag._delta_x(\n",
    "            positionX, positionX[:, np.newaxis], \n",
    "            sa.model.boundaryLength, sa.model.halfBoundaryLength\n",
    "        )\n",
    "        Aij = MeanFieldChiralInducedPhaseLag.distance_x(deltaX) <= 0.1\n",
    "        Mvalues.append(\n",
    "            np.sign(\n",
    "                ((1 - Homega) * Aij).sum(axis=0)\n",
    "            )\n",
    "        )\n",
    "    return Mvalues\n",
    "\n",
    "with Pool(49) as p:\n",
    "    results = p.map(calc_Svalues, tqdm(sas))\n",
    "\n",
    "for i, sa in enumerate(sas):\n",
    "    MvaluesMap[(sa.model.omegaMin, sa.model.phaseLag)] = results[i].copy()"
   ]
  },
  {
   "cell_type": "code",
   "execution_count": 7,
   "metadata": {},
   "outputs": [
    {
     "data": {
      "application/vnd.jupyter.widget-view+json": {
       "model_id": "0fadb6242ed344cba6f23af8b7c4d211",
       "version_major": 2,
       "version_minor": 0
      },
      "text/plain": [
       "  0%|          | 0/441 [00:00<?, ?it/s]"
      ]
     },
     "metadata": {},
     "output_type": "display_data"
    }
   ],
   "source": [
    "maps = pd.DataFrame(index=omegaMins, columns=phaseLags)\n",
    "\n",
    "for i, sa in tqdm(enumerate(sas), total=len(sas)):\n",
    "    Mvalues = MvaluesMap[(sa.model.omegaMin, sa.model.phaseLag)]\n",
    "    maps.loc[sa.model.omegaMin, sa.model.phaseLag] = np.mean(Mvalues)  # np.percentile(Svalues, 50)\n",
    "\n",
    "maps = maps.astype(float)\n",
    "maps.to_csv(\n",
    "    f\"./tables/meanFieldOrderParameter_M_\"\n",
    "    f\"l{strengthLambda}_d{distanceD0}_dO{deltaOmega}_rS{randomSeed}.csv\"\n",
    ")"
   ]
  }
 ],
 "metadata": {
  "kernelspec": {
   "display_name": "py3-env",
   "language": "python",
   "name": "python3"
  },
  "language_info": {
   "codemirror_mode": {
    "name": "ipython",
    "version": 3
   },
   "file_extension": ".py",
   "mimetype": "text/x-python",
   "name": "python",
   "nbconvert_exporter": "python",
   "pygments_lexer": "ipython3",
   "version": "3.7.10"
  }
 },
 "nbformat": 4,
 "nbformat_minor": 2
}
