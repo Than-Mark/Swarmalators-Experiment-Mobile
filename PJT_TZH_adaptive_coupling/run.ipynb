{
 "cells": [
  {
   "cell_type": "code",
   "execution_count": 2,
   "metadata": {},
   "outputs": [],
   "source": [
    "from AdaptiveInteraction import AdaptiveInteraction2D"
   ]
  },
  {
   "cell_type": "code",
   "execution_count": 4,
   "metadata": {},
   "outputs": [],
   "source": [
    "ai = AdaptiveInteraction2D(agentsNum=100, dt=0.1, J=1.0, K=1.0, r_c=0.1)"
   ]
  },
  {
   "cell_type": "code",
   "execution_count": 6,
   "metadata": {},
   "outputs": [
    {
     "data": {
      "text/plain": [
       "array([[-0.98013261,  0.57953136, -0.44937356, ..., -0.99902648,\n",
       "         0.00362719,  0.00345224],\n",
       "       [-0.87866061,  0.89967388,  0.21731809, ..., -0.43441949,\n",
       "         0.00493287, -0.39344496],\n",
       "       [ 0.10505885, -0.67774581,  0.13709793, ...,  0.36264758,\n",
       "         0.92658727,  0.40189491],\n",
       "       ...,\n",
       "       [ 0.73643904,  0.98802468,  0.87759192, ..., -0.75968368,\n",
       "         0.11181684,  0.3205392 ],\n",
       "       [ 0.56159631, -0.8737432 , -0.12287284, ...,  0.54429011,\n",
       "        -0.75561714,  0.32831811],\n",
       "       [-0.80975353, -0.91768118,  0.58661619, ...,  0.4343754 ,\n",
       "         0.43285331, -0.55925768]])"
      ]
     },
     "execution_count": 6,
     "metadata": {},
     "output_type": "execute_result"
    }
   ],
   "source": [
    "oldAij = ai.A_ij.copy()\n",
    "oldAij"
   ]
  },
  {
   "cell_type": "code",
   "execution_count": 7,
   "metadata": {},
   "outputs": [
    {
     "name": "stderr",
     "output_type": "stream",
     "text": [
      "f:\\Swarmalators-Experiment\\PJT_TZH_\\AdaptiveInteraction.py:108: RuntimeWarning: invalid value encountered in true_divide\n",
      "  answer = numerator / self.temp[\"distanceX2\"] ** power\n",
      "f:\\Swarmalators-Experiment\\PJT_TZH_\\AdaptiveInteraction.py:110: RuntimeWarning: divide by zero encountered in true_divide\n",
      "  answer = numerator / self.temp[\"distanceX\"] ** power\n"
     ]
    }
   ],
   "source": [
    "ai.update()"
   ]
  },
  {
   "cell_type": "code",
   "execution_count": 8,
   "metadata": {},
   "outputs": [
    {
     "data": {
      "text/plain": [
       "array([[-0.98367322,  0.58543776, -0.50918365, ..., -0.99901885,\n",
       "        -0.02151711, -0.05997352],\n",
       "       [-0.87663334,  0.88252106,  0.17567683, ..., -0.50722511,\n",
       "        -0.07829122, -0.44305383],\n",
       "       [ 0.030942  , -0.70137556,  0.04878956, ...,  0.33007282,\n",
       "         0.92523669,  0.32794597],\n",
       "       ...,\n",
       "       [ 0.7382337 ,  0.98588818,  0.86897148, ..., -0.79774294,\n",
       "         0.02730291,  0.27271782],\n",
       "       [ 0.54438206, -0.89343224, -0.13227767, ...,  0.48406053,\n",
       "        -0.79423098,  0.30355918],\n",
       "       [-0.83159123, -0.9269468 ,  0.52877138, ...,  0.39113423,\n",
       "         0.41030244, -0.62110846]])"
      ]
     },
     "execution_count": 8,
     "metadata": {},
     "output_type": "execute_result"
    }
   ],
   "source": [
    "newAij = ai.A_ij.copy()\n",
    "newAij"
   ]
  },
  {
   "cell_type": "code",
   "execution_count": 9,
   "metadata": {},
   "outputs": [
    {
     "data": {
      "text/plain": [
       "array([[False, False, False, ..., False, False, False],\n",
       "       [False, False, False, ..., False, False, False],\n",
       "       [False, False, False, ..., False, False, False],\n",
       "       ...,\n",
       "       [False, False, False, ..., False, False, False],\n",
       "       [False, False, False, ..., False, False, False],\n",
       "       [False, False, False, ..., False, False, False]])"
      ]
     },
     "execution_count": 9,
     "metadata": {},
     "output_type": "execute_result"
    }
   ],
   "source": [
    "newAij == oldAij"
   ]
  }
 ],
 "metadata": {
  "kernelspec": {
   "display_name": "py37",
   "language": "python",
   "name": "python3"
  },
  "language_info": {
   "codemirror_mode": {
    "name": "ipython",
    "version": 3
   },
   "file_extension": ".py",
   "mimetype": "text/x-python",
   "name": "python",
   "nbconvert_exporter": "python",
   "pygments_lexer": "ipython3",
   "version": "3.7.16"
  }
 },
 "nbformat": 4,
 "nbformat_minor": 2
}
